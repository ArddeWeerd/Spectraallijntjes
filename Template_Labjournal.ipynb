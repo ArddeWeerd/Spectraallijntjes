{
 "cells": [
  {
   "cell_type": "markdown",
   "metadata": {},
   "source": [
    "# General\n",
    "Template for labjournaal. See https://jupyter-notebook.readthedocs.io/en/stable/examples/Notebook/Working%20With%20Markdown%20Cells.html for options to use markdown.\n",
    "\n",
    "**Name:**  \n",
    "**Title of the experiment:**  \n",
    "**Starting date:**  \n",
    "**Expected enddate:**  \n",
    "**Partner:**  \n",
    "**Goal of the experiment:**  \n",
    "**Research question:**  \n",
    "**Expectations or Hypothesis:**  \n",
    "**Desired accuracy:**  \n",
    "\n",
    "\n"
   ]
  },
  {
   "cell_type": "code",
   "execution_count": 1,
   "metadata": {},
   "outputs": [],
   "source": [
    "#import necessary libraries\n",
    "import matplotlib.pyplot as plt\n",
    "import numpy as np\n",
    "import math\n",
    "from scipy.optimize import curve_fit "
   ]
  },
  {
   "cell_type": "markdown",
   "metadata": {},
   "source": [
    "# Preparation\n",
    " \n"
   ]
  },
  {
   "cell_type": "markdown",
   "metadata": {},
   "source": [
    "**Assignments:** <br />\n",
    "<br />\n",
    "<u> Opdracht 1: </u> <br />\n",
    "De afstand tot beide gaatjes is hetzelfde, dus het weglengteverschil is $0$ en er vindt constructieve interferentie plaats, onafhankelijk van de golflengte. <br />\n",
    "<br />\n",
    "<u> Opdracht 2: </u> <br />\n",
    "Ja, dan is $\\theta$ negatief, dat betekent dat de hoek met de klok mee is. Dan ligt $P$ dus 'onder' het laagste gat.<br / 3>\n",
    "<br />\n",
    "<u> Opdracht 3: </u> <br />\n",
    "Een toename in $d$ zorgt ervoor dat $m$ groter wordt of $\\theta$ kleiner wordt. Een afname heeft het tegenovergestelde effect.\n",
    "Toename in $m$ zorgt voor een toename in $d$ en $\\theta$. Afname heeft het tegenovergestelde effect. Toename/afname $\\theta$ zorgt voor een toename/afname in $m$ en afname/toename in $d$, respectievelijk. <br />\n",
    "<br />\n",
    "<u> Opdracht 4: </u> <br />\n",
    "$\\theta =  \\arcsin(\\frac{m\\lambda}{d})$ waar $\\lambda$ en $d$ constant zijn, terwijl $m$ kan variëren.<br />\n",
    "<br />\n",
    "<u> Opdracht 5: </u> <br />\n",
    "$u_m$ zal afnemen ten opzichte van $i$.<br />\n",
    "<br />\n",
    "<u> Opdracht 6: </u> <br />\n",
    "$i=0^{\\circ}$, dan komt de golf namelijk loodrecht aan op de reflectietralie. <br />\n",
    "<br />\n",
    "<u> Opdracht 7: </u> <br />\n",
    "Invullen 20.3 in 20.2 geeft: <br />\n",
    "$d\\sin(\\alpha-\\varphi)=d\\sin(\\alpha+\\varphi)+m\\lambda$, gebruik makend van de som- en verschilformules krijgen we: <br />\n",
    "$d(\\sin(\\alpha)\\cos(\\varphi)-\\cos(\\alpha)sin(\\varphi))=d(\\sin(\\alpha)\\cos(\\varphi)+cos(\\alpha)\\sin(\\phi))+m\\lambda$<br />\n",
    "$-d\\cos(\\alpha)\\sin(\\varphi)=d\\cos(\\alpha)\\sin(\\varphi)+m\\lambda$<br />\n",
    "$-2d\\cos(\\alpha)\\sin(\\varphi)=m\\lambda$<br />\n",
    "$2\\cos(\\alpha)\\sin(\\varphi)=-\\frac{m\\lambda}{d}=-m\\lambda N$ waar $\\frac{1}{d}=N$.<br />\n",
    "<br />\n",
    "<u> Opdracht 8: </u> <br />\n",
    "Negatief, $u$ is inderdaad kleiner dan $i$. <br />\n",
    "<br />\n",
    "<u> Opdracht 9: </u> <br />\n",
    "We hebben: $\\displaystyle \\lambda = -\\frac{2\\cos(\\alpha)\\sin(\\varphi)}{mN}$ <br />\n",
    "Met calculus methode: $\\displaystyle \\frac{\\partial \\lambda}{\\partial \\alpha}=\\frac{2\\sin(\\alpha)\\sin(\\varphi)}{mN}$ en $\\displaystyle \\frac{\\partial \\lambda}{\\partial \\varphi}=-\\frac{2\\cos(\\alpha)\\cos(\\varphi)}{mN}$ <br/>\n",
    "Kwadratisch optellen geeft: $\\displaystyle u(\\lambda)=\\sqrt{\\left(u(\\alpha) \\frac{2\\sin(\\alpha)\\sin(\\varphi)}{mN}\\right)^2+\\left(u(\\varphi) \\frac{2\\cos(\\alpha)\\cos(\\varphi)}{mN} \\right)^2}$<br />\n",
    "<br />\n",
    "<u> Opdracht 10: </u> <br />\n",
    "Met calculus methode: $\\displaystyle \\frac{\\partial (\\Delta \\lambda)}{\\partial v}=\\frac{\\sin{v}}{mN}\\Delta v$ en $\\displaystyle \\frac{\\partial (\\Delta \\lambda)}{\\partial (\\Delta v)}=\\frac{\\cos{v}}{mN}$. <br />\n",
    "Kwadratisch optellen geeft: $\\displaystyle u(\\Delta \\lambda)=\\sqrt{\\left(u(v)\\Delta v \\frac{sin{v}}{mN}\\right)^2+\\left(u(\\Delta v)\\frac{\\cos{v}}{mN}\\right)^2}$\n",
    "<br />\n",
    "<u> Opdracht 11: </u> <br />\n",
    "De apparatuur is niet perfect.\n",
    "Licht van andere bronnen."
   ]
  },
  {
   "cell_type": "markdown",
   "metadata": {},
   "source": [
    "**Method:**  \n",
    "**Theory:**  \n",
    "**Independent variable:**  \n",
    "**Dependent variable:**  \n",
    "**Controlled variablen:**  \n",
    "**Measurement instruments \\& Settings:**  \n",
    "**Procedure:**  \n",
    "**Setup(drawing or picture):**  \n",
    "**Notes:**  \n",
    "**About accuracy:**  \n"
   ]
  },
  {
   "cell_type": "markdown",
   "metadata": {},
   "source": [
    "# Execution"
   ]
  },
  {
   "cell_type": "code",
   "execution_count": 145,
   "metadata": {},
   "outputs": [],
   "source": [
    "# Measurements: Explain the names of variables provide only raw data in np.arrays!\n",
    "N = 600000\n",
    "alpha = 20 * 2 * np.pi /360\n",
    "\n",
    "m = np.array([-1, -1, -1, -2, -2, -2, -3, -3, -3, -4, -5, -4, -4, -5])\n",
    "i = np.array([-8, -11, -11, -17, -21, -22, -25, -32, -34, -34, -45, -45, -48, -61]) * 2 * np.pi / 360\n",
    "kleur = np.array(['blauwpaars', 'groen', 'geel', 'blauwpaars', 'groen', 'geel', 'blauwpaars', 'groen', 'geel', 'blauwpaars', 'blauwpaars', 'groen', 'geel', 'groen'])"
   ]
  },
  {
   "cell_type": "code",
   "execution_count": 121,
   "metadata": {},
   "outputs": [],
   "source": [
    "u_alpha = np.ones(len(i)) * 2 * 2 * np.pi / 360\n",
    "u_i = u_alpha"
   ]
  },
  {
   "cell_type": "markdown",
   "metadata": {},
   "source": [
    "**Observations:**  \n",
    "**Notes:**  "
   ]
  },
  {
   "cell_type": "markdown",
   "metadata": {},
   "source": [
    "# Processing\n",
    "**Description of processing of raw data into scientific evidence:**\n"
   ]
  },
  {
   "cell_type": "code",
   "execution_count": 146,
   "metadata": {
    "scrolled": true
   },
   "outputs": [
    {
     "name": "stdout",
     "output_type": "stream",
     "text": [
      "[-0.13962634 -0.19198622 -0.19198622 -0.29670597 -0.36651914 -0.38397244\n",
      " -0.43633231 -0.55850536 -0.59341195 -0.59341195 -0.78539816 -0.78539816\n",
      " -0.83775804 -1.06465084]\n",
      "[-4.35933120e-07 -5.97672683e-07 -5.97672683e-07 -4.57899222e-07\n",
      " -5.61259530e-07 -5.86691753e-07 -4.41256958e-07 -5.53290247e-07\n",
      " -5.83854939e-07 -4.37891204e-07 -4.42975350e-07 -5.53719187e-07\n",
      " -5.81939757e-07 -5.47915790e-07]\n"
     ]
    }
   ],
   "source": [
    "#Data processing and analysis:\n",
    "phi = i\n",
    "print(phi)\n",
    "labda = - 2 * np.cos(alpha) * np.sin(phi) / (m*N)\n",
    "print(labda)"
   ]
  },
  {
   "cell_type": "code",
   "execution_count": 124,
   "metadata": {},
   "outputs": [],
   "source": [
    "#Data processing and analysis:\n",
    "u_phi = np.sqrt(u_i**2+u_alpha**2)\n",
    "u_labda = np.sqrt((2*u_alpha*np.sin(alpha)*np.sin(phi)/(m*N))**2+(2*u_phi*np.cos(alpha)*np.cos(phi)/(m*N))**2)"
   ]
  },
  {
   "cell_type": "code",
   "execution_count": 115,
   "metadata": {
    "scrolled": true
   },
   "outputs": [
    {
     "ename": "ValueError",
     "evalue": "The lengths of the data (3) and the error 6 do not match",
     "output_type": "error",
     "traceback": [
      "\u001b[0;31m---------------------------------------------------------------------------\u001b[0m",
      "\u001b[0;31mValueError\u001b[0m                                Traceback (most recent call last)",
      "\u001b[0;32m<ipython-input-115-5e9b1441c81d>\u001b[0m in \u001b[0;36m<module>\u001b[0;34m\u001b[0m\n\u001b[1;32m      1\u001b[0m \u001b[0;31m#Data processing and analysis:\u001b[0m\u001b[0;34m\u001b[0m\u001b[0;34m\u001b[0m\u001b[0m\n\u001b[1;32m      2\u001b[0m \u001b[0mplt\u001b[0m\u001b[0;34m.\u001b[0m\u001b[0mfigure\u001b[0m\u001b[0;34m(\u001b[0m\u001b[0;34m)\u001b[0m\u001b[0;34m\u001b[0m\u001b[0m\n\u001b[0;32m----> 3\u001b[0;31m \u001b[0mplt\u001b[0m\u001b[0;34m.\u001b[0m\u001b[0merrorbar\u001b[0m\u001b[0;34m(\u001b[0m\u001b[0mm\u001b[0m\u001b[0;34m,\u001b[0m \u001b[0mlabda\u001b[0m\u001b[0;34m,\u001b[0m \u001b[0myerr\u001b[0m\u001b[0;34m=\u001b[0m\u001b[0mu_labda\u001b[0m\u001b[0;34m,\u001b[0m \u001b[0mlabel\u001b[0m\u001b[0;34m=\u001b[0m\u001b[0;34m'Gemeten golflengte bij orde'\u001b[0m\u001b[0;34m,\u001b[0m \u001b[0mfmt\u001b[0m\u001b[0;34m=\u001b[0m\u001b[0;34m''\u001b[0m\u001b[0;34m)\u001b[0m\u001b[0;34m\u001b[0m\u001b[0m\n\u001b[0m\u001b[1;32m      4\u001b[0m \u001b[0mplt\u001b[0m\u001b[0;34m.\u001b[0m\u001b[0mxlabel\u001b[0m\u001b[0;34m(\u001b[0m\u001b[0;34m'$m$'\u001b[0m\u001b[0;34m)\u001b[0m\u001b[0;34m\u001b[0m\u001b[0m\n\u001b[1;32m      5\u001b[0m \u001b[0mplt\u001b[0m\u001b[0;34m.\u001b[0m\u001b[0mylabel\u001b[0m\u001b[0;34m(\u001b[0m\u001b[0;34m'$\\lambda$ (m)'\u001b[0m\u001b[0;34m)\u001b[0m\u001b[0;34m\u001b[0m\u001b[0m\n",
      "\u001b[0;32m/usr/lib/python3.7/site-packages/matplotlib/pyplot.py\u001b[0m in \u001b[0;36merrorbar\u001b[0;34m(x, y, yerr, xerr, fmt, ecolor, elinewidth, capsize, barsabove, lolims, uplims, xlolims, xuplims, errorevery, capthick, data, **kwargs)\u001b[0m\n\u001b[1;32m   2775\u001b[0m         \u001b[0mlolims\u001b[0m\u001b[0;34m=\u001b[0m\u001b[0mlolims\u001b[0m\u001b[0;34m,\u001b[0m \u001b[0muplims\u001b[0m\u001b[0;34m=\u001b[0m\u001b[0muplims\u001b[0m\u001b[0;34m,\u001b[0m \u001b[0mxlolims\u001b[0m\u001b[0;34m=\u001b[0m\u001b[0mxlolims\u001b[0m\u001b[0;34m,\u001b[0m\u001b[0;34m\u001b[0m\u001b[0m\n\u001b[1;32m   2776\u001b[0m         \u001b[0mxuplims\u001b[0m\u001b[0;34m=\u001b[0m\u001b[0mxuplims\u001b[0m\u001b[0;34m,\u001b[0m \u001b[0merrorevery\u001b[0m\u001b[0;34m=\u001b[0m\u001b[0merrorevery\u001b[0m\u001b[0;34m,\u001b[0m \u001b[0mcapthick\u001b[0m\u001b[0;34m=\u001b[0m\u001b[0mcapthick\u001b[0m\u001b[0;34m,\u001b[0m\u001b[0;34m\u001b[0m\u001b[0m\n\u001b[0;32m-> 2777\u001b[0;31m         **({\"data\": data} if data is not None else {}), **kwargs)\n\u001b[0m\u001b[1;32m   2778\u001b[0m \u001b[0;34m\u001b[0m\u001b[0m\n\u001b[1;32m   2779\u001b[0m \u001b[0;34m\u001b[0m\u001b[0m\n",
      "\u001b[0;32m/usr/lib/python3.7/site-packages/matplotlib/__init__.py\u001b[0m in \u001b[0;36minner\u001b[0;34m(ax, data, *args, **kwargs)\u001b[0m\n\u001b[1;32m   1359\u001b[0m     \u001b[0;32mdef\u001b[0m \u001b[0minner\u001b[0m\u001b[0;34m(\u001b[0m\u001b[0max\u001b[0m\u001b[0;34m,\u001b[0m \u001b[0;34m*\u001b[0m\u001b[0margs\u001b[0m\u001b[0;34m,\u001b[0m \u001b[0mdata\u001b[0m\u001b[0;34m=\u001b[0m\u001b[0;32mNone\u001b[0m\u001b[0;34m,\u001b[0m \u001b[0;34m**\u001b[0m\u001b[0mkwargs\u001b[0m\u001b[0;34m)\u001b[0m\u001b[0;34m:\u001b[0m\u001b[0;34m\u001b[0m\u001b[0m\n\u001b[1;32m   1360\u001b[0m         \u001b[0;32mif\u001b[0m \u001b[0mdata\u001b[0m \u001b[0;32mis\u001b[0m \u001b[0;32mNone\u001b[0m\u001b[0;34m:\u001b[0m\u001b[0;34m\u001b[0m\u001b[0m\n\u001b[0;32m-> 1361\u001b[0;31m             \u001b[0;32mreturn\u001b[0m \u001b[0mfunc\u001b[0m\u001b[0;34m(\u001b[0m\u001b[0max\u001b[0m\u001b[0;34m,\u001b[0m \u001b[0;34m*\u001b[0m\u001b[0mmap\u001b[0m\u001b[0;34m(\u001b[0m\u001b[0msanitize_sequence\u001b[0m\u001b[0;34m,\u001b[0m \u001b[0margs\u001b[0m\u001b[0;34m)\u001b[0m\u001b[0;34m,\u001b[0m \u001b[0;34m**\u001b[0m\u001b[0mkwargs\u001b[0m\u001b[0;34m)\u001b[0m\u001b[0;34m\u001b[0m\u001b[0m\n\u001b[0m\u001b[1;32m   1362\u001b[0m \u001b[0;34m\u001b[0m\u001b[0m\n\u001b[1;32m   1363\u001b[0m         \u001b[0mbound\u001b[0m \u001b[0;34m=\u001b[0m \u001b[0mnew_sig\u001b[0m\u001b[0;34m.\u001b[0m\u001b[0mbind\u001b[0m\u001b[0;34m(\u001b[0m\u001b[0max\u001b[0m\u001b[0;34m,\u001b[0m \u001b[0;34m*\u001b[0m\u001b[0margs\u001b[0m\u001b[0;34m,\u001b[0m \u001b[0;34m**\u001b[0m\u001b[0mkwargs\u001b[0m\u001b[0;34m)\u001b[0m\u001b[0;34m\u001b[0m\u001b[0m\n",
      "\u001b[0;32m/usr/lib/python3.7/site-packages/matplotlib/axes/_axes.py\u001b[0m in \u001b[0;36merrorbar\u001b[0;34m(self, x, y, yerr, xerr, fmt, ecolor, elinewidth, capsize, barsabove, lolims, uplims, xlolims, xuplims, errorevery, capthick, **kwargs)\u001b[0m\n\u001b[1;32m   3493\u001b[0m \u001b[0;34m\u001b[0m\u001b[0m\n\u001b[1;32m   3494\u001b[0m         \u001b[0;32mif\u001b[0m \u001b[0myerr\u001b[0m \u001b[0;32mis\u001b[0m \u001b[0;32mnot\u001b[0m \u001b[0;32mNone\u001b[0m\u001b[0;34m:\u001b[0m\u001b[0;34m\u001b[0m\u001b[0m\n\u001b[0;32m-> 3495\u001b[0;31m             \u001b[0mlower\u001b[0m\u001b[0;34m,\u001b[0m \u001b[0mupper\u001b[0m \u001b[0;34m=\u001b[0m \u001b[0mextract_err\u001b[0m\u001b[0;34m(\u001b[0m\u001b[0;34m'y'\u001b[0m\u001b[0;34m,\u001b[0m \u001b[0myerr\u001b[0m\u001b[0;34m,\u001b[0m \u001b[0my\u001b[0m\u001b[0;34m,\u001b[0m \u001b[0mlolims\u001b[0m\u001b[0;34m,\u001b[0m \u001b[0muplims\u001b[0m\u001b[0;34m)\u001b[0m\u001b[0;34m\u001b[0m\u001b[0m\n\u001b[0m\u001b[1;32m   3496\u001b[0m             barcols.append(self.vlines(\n\u001b[1;32m   3497\u001b[0m                 *apply_mask([x, lower, upper], everymask), **eb_lines_style))\n",
      "\u001b[0;32m/usr/lib/python3.7/site-packages/matplotlib/axes/_axes.py\u001b[0m in \u001b[0;36mextract_err\u001b[0;34m(name, err, data, lolims, uplims)\u001b[0m\n\u001b[1;32m   3451\u001b[0m                 \u001b[0;32mif\u001b[0m \u001b[0mlen\u001b[0m\u001b[0;34m(\u001b[0m\u001b[0mdata\u001b[0m\u001b[0;34m)\u001b[0m \u001b[0;34m!=\u001b[0m \u001b[0mlen\u001b[0m\u001b[0;34m(\u001b[0m\u001b[0me\u001b[0m\u001b[0;34m)\u001b[0m\u001b[0;34m:\u001b[0m\u001b[0;34m\u001b[0m\u001b[0m\n\u001b[1;32m   3452\u001b[0m                     raise ValueError(\n\u001b[0;32m-> 3453\u001b[0;31m                         \u001b[0;34mf\"The lengths of the data ({len(data)}) and the \"\u001b[0m\u001b[0;34m\u001b[0m\u001b[0m\n\u001b[0m\u001b[1;32m   3454\u001b[0m                         f\"error {len(e)} do not match\")\n\u001b[1;32m   3455\u001b[0m             \u001b[0mlow\u001b[0m \u001b[0;34m=\u001b[0m \u001b[0;34m[\u001b[0m\u001b[0mv\u001b[0m \u001b[0;32mif\u001b[0m \u001b[0mlo\u001b[0m \u001b[0;32melse\u001b[0m \u001b[0mv\u001b[0m \u001b[0;34m-\u001b[0m \u001b[0me\u001b[0m \u001b[0;32mfor\u001b[0m \u001b[0mv\u001b[0m\u001b[0;34m,\u001b[0m \u001b[0me\u001b[0m\u001b[0;34m,\u001b[0m \u001b[0mlo\u001b[0m \u001b[0;32min\u001b[0m \u001b[0mzip\u001b[0m\u001b[0;34m(\u001b[0m\u001b[0mdata\u001b[0m\u001b[0;34m,\u001b[0m \u001b[0ma\u001b[0m\u001b[0;34m,\u001b[0m \u001b[0mlolims\u001b[0m\u001b[0;34m)\u001b[0m\u001b[0;34m]\u001b[0m\u001b[0;34m\u001b[0m\u001b[0m\n",
      "\u001b[0;31mValueError\u001b[0m: The lengths of the data (3) and the error 6 do not match"
     ]
    },
    {
     "data": {
      "image/png": "[encoded data removed]",
      "text/plain": [
       "<Figure size 432x288 with 1 Axes>"
      ]
     },
     "metadata": {
      "needs_background": "light"
     },
     "output_type": "display_data"
    }
   ],
   "source": [
    "#Data processing and analysis:\n",
    "plt.figure()\n",
    "plt.errorbar(m, labda, yerr=u_labda, label='Gemeten golflengte bij orde', fmt='')\n",
    "plt.xlabel('$m$')\n",
    "plt.ylabel('$\\lambda$ (m)')\n",
    "plt.legend()\n",
    "plt.show()"
   ]
  },
  {
   "cell_type": "code",
   "execution_count": 7,
   "metadata": {},
   "outputs": [
    {
     "ename": "TypeError",
     "evalue": "sqrt() takes from 1 to 2 positional arguments but 0 were given",
     "output_type": "error",
     "traceback": [
      "\u001b[0;31m---------------------------------------------------------------------------\u001b[0m",
      "\u001b[0;31mTypeError\u001b[0m                                 Traceback (most recent call last)",
      "\u001b[0;32m<ipython-input-7-36383a4c4eb7>\u001b[0m in \u001b[0;36m<module>\u001b[0;34m\u001b[0m\n\u001b[1;32m      6\u001b[0m \u001b[0mwerkditook\u001b[0m \u001b[0;34m=\u001b[0m \u001b[0mnp\u001b[0m\u001b[0;34m.\u001b[0m\u001b[0mmean\u001b[0m\u001b[0;34m(\u001b[0m\u001b[0mgewogen_labda\u001b[0m\u001b[0;34m)\u001b[0m\u001b[0;34m\u001b[0m\u001b[0m\n\u001b[1;32m      7\u001b[0m \u001b[0;34m\u001b[0m\u001b[0m\n\u001b[0;32m----> 8\u001b[0;31m \u001b[0mu_gem_labda\u001b[0m \u001b[0;34m=\u001b[0m \u001b[0;36m1\u001b[0m \u001b[0;34m/\u001b[0m \u001b[0mnp\u001b[0m\u001b[0;34m.\u001b[0m\u001b[0msqrt\u001b[0m\u001b[0;34m(\u001b[0m\u001b[0;34m)\u001b[0m\u001b[0;34m\u001b[0m\u001b[0m\n\u001b[0m",
      "\u001b[0;31mTypeError\u001b[0m: sqrt() takes from 1 to 2 positional arguments but 0 were given"
     ]
    }
   ],
   "source": [
    "gewicht = 1 / (u_labda)**2\n",
    "gewogen_labda = gewicht * labda\n",
    "som_lab = np.sum(gewogen_labda)\n",
    "som_gew = np.sum(gewicht)\n",
    "gem_labda= som_lab/som_gew\n",
    "werkditook = np.mean(gewogen_labda)\n",
    "\n",
    "u_gem_labda = 1 / np.sqrt()"
   ]
  },
  {
   "cell_type": "code",
   "execution_count": null,
   "metadata": {
    "collapsed": true
   },
   "outputs": [],
   "source": [
    "alpha = 8 * 2 * np.pi / 360\n",
    "\n",
    "u = np.array([12, 22])\n",
    "delta_u = np.array([97, 20])\n",
    "m = np.array([1, 2])\n",
    "delta_labda = np.cos(u)/(m*N)*delta_u\n",
    "\n",
    "u_u = np.array([])\n",
    "u_delta_u = np.array([])\n",
    "u_delta_labda = np.sqrt((u_u*delta_u*np.sin(u)/(m*N))**2+(u_u_delta*cos(u)/(m*N))**2)"
   ]
  },
  {
   "cell_type": "markdown",
   "metadata": {},
   "source": [
    "**Describing the pattern in the processed data:**  \n"
   ]
  },
  {
   "cell_type": "code",
   "execution_count": null,
   "metadata": {
    "collapsed": true
   },
   "outputs": [],
   "source": [
    "#Calculations of e.a. measurement uncertainties, and providing final answers.\n"
   ]
  },
  {
   "cell_type": "markdown",
   "metadata": {},
   "source": [
    "**Notes:**  "
   ]
  },
  {
   "cell_type": "markdown",
   "metadata": {},
   "source": [
    "# Discussion\n",
    "\n"
   ]
  },
  {
   "cell_type": "markdown",
   "metadata": {},
   "source": [
    "# Conclusion"
   ]
  },
  {
   "cell_type": "code",
   "execution_count": null,
   "metadata": {
    "collapsed": true
   },
   "outputs": [],
   "source": []
  },
  {
   "cell_type": "code",
   "execution_count": null,
   "metadata": {
    "collapsed": true
   },
   "outputs": [],
   "source": []
  },
  {
   "cell_type": "markdown",
   "metadata": {},
   "source": [
    "# Additional notes, remarks, explanations, thoughts etc"
   ]
  },
  {
   "cell_type": "markdown",
   "metadata": {},
   "source": []
  },
  {
   "cell_type": "markdown",
   "metadata": {},
   "source": [
    "# Hetzelfde maar dan voor natrium"
   ]
  },
  {
   "cell_type": "code",
   "execution_count": 113,
   "metadata": {
    "collapsed": true
   },
   "outputs": [],
   "source": [
    "# Measurements: Explain the names of variables provide only raw data in np.arrays!\n",
    "N = 600 * 10 **(-3) / (500 * 10 **(-9)) \n",
    "alpha = 19 * 2 * np.pi /360\n",
    "\n",
    "m = np.array([1, -1, -2])\n",
    "i = np.array([-12, 10, 22]) * 2 * np.pi / 360\n",
    "aflezing = np.array(['fel', 'scherp en fel', 'minder fel', 'breed en vaag', 'vaag'])"
   ]
  },
  {
   "cell_type": "code",
   "execution_count": null,
   "metadata": {
    "collapsed": true
   },
   "outputs": [],
   "source": [
    "u_alpha =\n",
    "u_i = np.array([])"
   ]
  },
  {
   "cell_type": "code",
   "execution_count": 114,
   "metadata": {
    "scrolled": true
   },
   "outputs": [
    {
     "name": "stdout",
     "output_type": "stream",
     "text": [
      "[ 8.11630112e-07 -2.46519488e-07  4.12371823e-08]\n"
     ]
    }
   ],
   "source": [
    "#Data processing and analysis:\n",
    "phi = i - alpha\n",
    "labda = - 2 * np.cos(alpha) * np.sin(phi) / (m*N)\n",
    "print(labda)"
   ]
  },
  {
   "cell_type": "code",
   "execution_count": null,
   "metadata": {
    "collapsed": true
   },
   "outputs": [],
   "source": [
    "#Data processing and analysis:\n",
    "u_phi = np.sqrt(u_i**2+u_alpha**2)\n",
    "u_labda = np.sqrt((2*u_alpha*np.sin(alpha)*np.sin(phi)/(m*N))**2+(2*u_phi*np.cos(alpha)*np.cos(phi)/(m*N))**2)"
   ]
  },
  {
   "cell_type": "code",
   "execution_count": null,
   "metadata": {
    "collapsed": true
   },
   "outputs": [],
   "source": [
    "#Data processing and analysis:\n",
    "plt.figure()\n",
    "plt.errorbar(m, labda, yerr=u_labda, label='Gemeten golflengte bij orde')\n",
    "plt.xlabel('$m$')\n",
    "plt.ylabel('$/lambda$ (m)')\n",
    "plt.legend()\n",
    "plt.show()"
   ]
  },
  {
   "cell_type": "code",
   "execution_count": null,
   "metadata": {
    "collapsed": true
   },
   "outputs": [],
   "source": [
    "gewicht = 1 / (u_labda)**2\n",
    "gewogen_labda = gewicht * labda\n",
    "som_lab = np.sum(gewogen_labda)\n",
    "som_gew = np.sum(gewicht)\n",
    "gem_labda= som_lab/som_gew\n",
    "werkditook = np.mean(gewogen_labda)\n",
    "\n",
    "u_gem_labda = 1 / np.sqrt()"
   ]
  },
  {
   "cell_type": "code",
   "execution_count": null,
   "metadata": {
    "collapsed": true
   },
   "outputs": [],
   "source": [
    "u = np.array([])\n",
    "delta_u = np.array([])\n",
    "delta_labda = np.cos(u)/(m*N)*delta_u\n",
    "\n",
    "u_u = np.array([])\n",
    "u_delta_u = np.array([])\n",
    "u_delta_labda = np.sqrt((u_u*delta_u*np.sin(u)/(m*N))**2+(u_u_delta*cos(u)/(m*N))**2)"
   ]
  }
 ],
 "metadata": {
  "kernelspec": {
   "display_name": "Python 3 [3.7]",
   "language": "python",
   "name": "python3"
  },
  "language_info": {
   "codemirror_mode": {
    "name": "ipython",
    "version": 3
   },
   "file_extension": ".py",
   "mimetype": "text/x-python",
   "name": "python",
   "nbconvert_exporter": "python",
   "pygments_lexer": "ipython3",
   "version": "3.7.5"
  }
 },
 "nbformat": 4,
 "nbformat_minor": 2
}
