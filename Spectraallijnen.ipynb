{
 "cells": [
  {
   "cell_type": "markdown",
   "metadata": {},
   "source": [
    "# General\n",
    "Template for labjournaal. See https://jupyter-notebook.readthedocs.io/en/stable/examples/Notebook/Working%20With%20Markdown%20Cells.html for options to use markdown.\n",
    "\n",
    "**Name:**  \n",
    "**Title of the experiment:**  \n",
    "**Starting date:**  \n",
    "**Expected enddate:**  \n",
    "**Partner:**  \n",
    "**Goal of the experiment:**  \n",
    "**Research question:**  \n",
    "**Expectations or Hypothesis:**  \n",
    "**Desired accuracy:**  \n",
    "\n",
    "\n"
   ]
  },
  {
   "cell_type": "code",
   "execution_count": 1,
   "metadata": {
    "collapsed": true
   },
   "outputs": [],
   "source": [
    "#import necessary libraries\n",
    "import matplotlib.pyplot as plt\n",
    "import numpy as np\n",
    "import math\n",
    "from scipy.optimize import curve_fit "
   ]
  },
  {
   "cell_type": "markdown",
   "metadata": {},
   "source": [
    "# Preparation\n",
    " \n"
   ]
  },
  {
   "cell_type": "markdown",
   "metadata": {},
   "source": [
    "**Assignments:** <br />\n",
    "<br />\n",
    "<u> Opdracht 1: </u> <br />\n",
    "De afstand tot beide gaatjes is hetzelfde, dus het weglengteverschil is $0$ en er vindt constructieve interferentie plaats, onafhankelijk van de golflengte. <br />\n",
    "<br />\n",
    "<u> Opdracht 2: </u> <br />\n",
    "Ja, dan is $\\theta$ negatief, dat betekent dat de hoek met de klok mee is. Dan ligt $P$ dus 'onder' het laagste gat.<br / 3>\n",
    "<br />\n",
    "<u> Opdracht 3: </u> <br />\n",
    "Een toename in $d$ zorgt ervoor dat $m$ groter wordt of $\\theta$ kleiner wordt. Een afname heeft het tegenovergestelde effect.\n",
    "Toename in $m$ zorgt voor een toename in $d$ en $\\theta$. Afname heeft het tegenovergestelde effect. Toename/afname $\\theta$ zorgt voor een toename/afname in $m$ en afname/toename in $d$, respectievelijk. <br />\n",
    "<br />\n",
    "<u> Opdracht 4: </u> <br />\n",
    "$\\theta =  \\arcsin(\\frac{m\\lambda}{d})$ waar $\\lambda$ en $d$ constant zijn, terwijl $m$ kan variëren.<br />\n",
    "<br />\n",
    "<u> Opdracht 5: </u> <br />\n",
    "$u_m$ zal afnemen ten opzichte van $i$.<br />\n",
    "<br />\n",
    "<u> Opdracht 6: </u> <br />\n",
    "$i=0^{\\circ}$, dan komt de golf namelijk loodrecht aan op de reflectietralie. <br />\n",
    "<br />\n",
    "<u> Opdracht 7: </u> <br />\n",
    "Invullen 20.3 in 20.2 geeft: <br />\n",
    "$d\\sin(\\alpha-\\varphi)=d\\sin(\\alpha+\\varphi)+m\\lambda$, gebruik makend van de som- en verschilformules krijgen we: <br />\n",
    "$d(\\sin(\\alpha)\\cos(\\varphi)-\\cos(\\alpha)sin(\\varphi))=d(\\sin(\\alpha)\\cos(\\varphi)+cos(\\alpha)\\sin(\\phi))+m\\lambda$<br />\n",
    "$-d\\cos(\\alpha)\\sin(\\varphi)=d\\cos(\\alpha)\\sin(\\varphi)+m\\lambda$<br />\n",
    "$-2d\\cos(\\alpha)\\sin(\\varphi)=m\\lambda$<br />\n",
    "$2\\cos(\\alpha)\\sin(\\varphi)=-\\frac{m\\lambda}{d}=-m\\lambda N$ waar $\\frac{1}{d}=N$.<br />\n",
    "<br />\n",
    "<u> Opdracht 8: </u> <br />\n",
    "Negatief, $u$ is inderdaad kleiner dan $i$. <br />\n",
    "<br />\n",
    "<u> Opdracht 9: </u> <br />\n",
    "We hebben: $\\displaystyle \\lambda = -\\frac{2\\cos(\\alpha)\\sin(\\varphi)}{mN}$ <br />\n",
    "Met calculus methode: $\\displaystyle \\frac{\\partial \\lambda}{\\partial \\alpha}=\\frac{2\\sin(\\alpha)\\sin(\\varphi)}{mN}$ en $\\displaystyle \\frac{\\partial \\lambda}{\\partial \\varphi}=-\\frac{2\\cos(\\alpha)\\cos(\\varphi)}{mN}$ <br/>\n",
    "Kwadratisch optellen geeft: $\\displaystyle u(\\lambda)=\\sqrt{\\left(u(\\alpha) \\frac{2\\sin(\\alpha)\\sin(\\varphi)}{mN}\\right)^2+\\left(u(\\varphi) \\frac{2\\cos(\\alpha)\\cos(\\varphi)}{mN} \\right)^2}$<br />\n",
    "<br />\n",
    "<u> Opdracht 10: </u> <br />\n",
    "Met calculus methode: $\\displaystyle \\frac{\\partial (\\Delta \\lambda)}{\\partial v}=\\frac{\\sin{v}}{mN}\\Delta v$ en $\\displaystyle \\frac{\\partial (\\Delta \\lambda)}{\\partial (\\Delta v)}=\\frac{\\cos{v}}{mN}$. <br />\n",
    "Kwadratisch optellen geeft: $\\displaystyle u(\\Delta \\lambda)=\\sqrt{\\left(u(v)\\Delta v \\frac{sin{v}}{mN}\\right)^2+\\left(u(\\Delta v)\\frac{\\cos{v}}{mN}\\right)^2}$\n",
    "<br />\n",
    "<u> Opdracht 11: </u> <br />\n",
    "De apparatuur is niet perfect.\n",
    "Licht van andere bronnen."
   ]
  },
  {
   "cell_type": "markdown",
   "metadata": {},
   "source": [
    "**Method:**  \n",
    "**Theory:**  \n",
    "**Independent variable:**  \n",
    "**Dependent variable:**  \n",
    "**Controlled variablen:**  \n",
    "**Measurement instruments \\& Settings:**  \n",
    "**Procedure:**  \n",
    "**Setup(drawing or picture):**  \n",
    "**Notes:**  \n",
    "**About accuracy:**  \n"
   ]
  },
  {
   "cell_type": "markdown",
   "metadata": {},
   "source": [
    "# Execution"
   ]
  },
  {
   "cell_type": "code",
   "execution_count": 2,
   "metadata": {
    "collapsed": true
   },
   "outputs": [],
   "source": [
    "# Measurements: Explain the names of variables provide only raw data in np.arrays!\n",
    "N = 600000\n",
    "alpha = 20 * 2 * np.pi /360\n",
    "\n",
    "m = np.array([-1, -1, -1, -2, -2, -2, -3, -3, -3, -4, -5, -4, -4, -5])*-1\n",
    "i = np.array([-8, -11, -11, -17, -21, -22, -25, -32, -34, -34, -45, -45, -48, -61]) * 2 * np.pi / 360\n",
    "kleur = np.array(['blauwpaars', 'groen', 'geel', 'blauwpaars', 'groen', 'geel', 'blauwpaars', 'groen', 'geel', 'blauwpaars', 'blauwpaars', 'groen', 'geel', 'groen'])"
   ]
  },
  {
   "cell_type": "code",
   "execution_count": null,
   "metadata": {
    "collapsed": true
   },
   "outputs": [],
   "source": []
  },
  {
   "cell_type": "code",
   "execution_count": 3,
   "metadata": {
    "collapsed": true
   },
   "outputs": [],
   "source": [
    "u_alpha = np.ones(len(i)) * 1 * 2 * np.pi / 360\n",
    "u_i = u_alpha"
   ]
  },
  {
   "cell_type": "code",
   "execution_count": null,
   "metadata": {
    "collapsed": true
   },
   "outputs": [],
   "source": []
  },
  {
   "cell_type": "markdown",
   "metadata": {},
   "source": [
    "**Observations:**  \n",
    "**Notes:**  "
   ]
  },
  {
   "cell_type": "markdown",
   "metadata": {},
   "source": [
    "# Processing\n",
    "**Description of processing of raw data into scientific evidence:**\n"
   ]
  },
  {
   "cell_type": "code",
   "execution_count": 4,
   "metadata": {
    "scrolled": true
   },
   "outputs": [
    {
     "name": "stdout",
     "output_type": "stream",
     "text": [
      "[-0.13962634 -0.19198622 -0.19198622 -0.29670597 -0.36651914 -0.38397244\n",
      " -0.43633231 -0.55850536 -0.59341195 -0.59341195 -0.78539816 -0.78539816\n",
      " -0.83775804 -1.06465084]\n",
      "[4.35933120e-07 5.97672683e-07 5.97672683e-07 4.57899222e-07\n",
      " 5.61259530e-07 5.86691753e-07 4.41256958e-07 5.53290247e-07\n",
      " 5.83854939e-07 4.37891204e-07 4.42975350e-07 5.53719187e-07\n",
      " 5.81939757e-07 5.47915790e-07]\n"
     ]
    }
   ],
   "source": [
    "#Data processing and analysis:\n",
    "phi = i\n",
    "print(phi)\n",
    "labda = - 2 * np.cos(alpha) * np.sin(phi) / (m*N)\n",
    "print(labda)"
   ]
  },
  {
   "cell_type": "code",
   "execution_count": 5,
   "metadata": {},
   "outputs": [
    {
     "name": "stdout",
     "output_type": "stream",
     "text": [
      "[4.359331199468858e-07, 4.578992224242538e-07, 4.412569577412254e-07, 4.378912041560897e-07, 4.4297534959244976e-07]\n",
      "[5.976726831163723e-07, 5.61259529523159e-07, 5.532902469024895e-07, 5.537191869905622e-07, 5.479157898618817e-07]\n",
      "[5.976726831163723e-07, 5.866917525511327e-07, 5.838549388747862e-07, 5.819397572302825e-07]\n"
     ]
    }
   ],
   "source": [
    "#labda_blauw = []\n",
    "#for i in range()\n",
    "blauw =[]\n",
    "borde=[]\n",
    "for i in range(len(kleur)):\n",
    "    if kleur[i]==\"blauwpaars\":\n",
    "        blauw.append(labda[i])\n",
    "        borde.append(m[i])\n",
    "print(blauw)\n",
    "groen =[]\n",
    "gnorde=[]\n",
    "for i in range(len(kleur)):\n",
    "    if kleur[i]==\"groen\":\n",
    "        groen.append(labda[i])\n",
    "        gnorde.append(m[i])\n",
    "print(groen)\n",
    "\n",
    "geel =[]\n",
    "glorde=[]\n",
    "for i in range(len(kleur)):\n",
    "    if kleur[i]==\"geel\":\n",
    "        geel.append(labda[i])\n",
    "        glorde.append(m[i])\n",
    "print(geel)"
   ]
  },
  {
   "cell_type": "code",
   "execution_count": 15,
   "metadata": {},
   "outputs": [
    {
     "name": "stdout",
     "output_type": "stream",
     "text": [
      "[0.01745329 0.01745329 0.01745329 0.01745329 0.01745329 0.01745329\n",
      " 0.01745329 0.01745329 0.01745329 0.01745329 0.01745329 0.01745329\n",
      " 0.01745329 0.01745329]\n",
      "[5.42078459e-08 5.37988134e-08 5.37988134e-08 2.63015034e-08\n",
      " 2.57668667e-08 2.56167184e-08 1.67518604e-08 1.58486580e-08\n",
      " 1.55561914e-08 1.16671436e-08 8.22756100e-09 1.02844512e-08\n",
      " 9.86410532e-09 6.34140721e-09]\n",
      "[5.4207845863979646e-08, 2.6301503355159247e-08, 1.6751860374685105e-08, 1.1667143573736546e-08, 8.227560996589566e-09]\n",
      "[5.379881343584257e-08, 2.5766866719477933e-08, 1.584865804295813e-08, 1.0284451245736958e-08, 6.341407208239631e-09]\n",
      "[5.379881343584257e-08, 2.561671840986974e-08, 1.555619143164873e-08, 9.864105321599223e-09]\n"
     ]
    }
   ],
   "source": [
    "#Data processing and analysis:\n",
    "u_phi = u_i\n",
    "u_labda = np.sqrt((2*u_alpha*np.sin(alpha)*np.sin(phi)/(m*N))**2+(2*u_phi*np.cos(alpha)*np.cos(phi)/(m*N))**2)\n",
    "\n",
    "u_b=[]\n",
    "u_gn=[]\n",
    "u_gl=[]\n",
    "for i in range(len(kleur)):\n",
    "    if kleur[i]=='blauwpaars':\n",
    "        u_b.append(u_labda[i])\n",
    "    if kleur[i]=='groen':\n",
    "        u_gn.append(u_labda[i])\n",
    "    if kleur[i]=='geel':\n",
    "        u_gl.append(u_labda[i])\n",
    "\n",
    "print(u_phi)\n",
    "print(u_labda)\n",
    "print(u_b)\n",
    "print(u_gn)\n",
    "print(u_gl)\n",
    "\n",
    "blauwtheo = 435.8*10**-9\n",
    "groentheo = 546.1*10**-9\n",
    "geeltheo = 578.1*10**-9"
   ]
  },
  {
   "cell_type": "code",
   "execution_count": 7,
   "metadata": {
    "scrolled": true
   },
   "outputs": [
    {
     "data": {
      "image/png": "[encoded data removed]",
      "text/plain": [
       "<Figure size 432x288 with 1 Axes>"
      ]
     },
     "metadata": {
      "needs_background": "light"
     },
     "output_type": "display_data"
    }
   ],
   "source": [
    "#Data processing and analysis:\n",
    "plt.figure()\n",
    "plt.errorbar(borde, blauw, yerr=u_b, label='blauw', fmt='o')\n",
    "plt.axhline(y = blauwtheo, color = 'b', linestyle = '--')\n",
    "plt.errorbar(gnorde, groen, yerr=u_gn,color='green', label='groen', fmt='o')\n",
    "plt.axhline(y = groentheo, color = 'g', linestyle = '--')\n",
    "plt.errorbar(glorde, geel, yerr=u_gl, color='orange',label='geel', fmt='o')\n",
    "plt.axhline(y = geeltheo, color = 'orange', linestyle = '--')\n",
    "plt.xlabel('$m$')\n",
    "plt.ylabel('$\\lambda$ (m)')\n",
    "plt.grid()\n",
    "plt.legend()\n",
    "plt.savefig('spectraallijntjes.pdf')\n",
    "#plt.show()"
   ]
  },
  {
   "cell_type": "code",
   "execution_count": 18,
   "metadata": {},
   "outputs": [
    {
     "name": "stdout",
     "output_type": "stream",
     "text": [
      "4.420908267946105e-07\n",
      "6.033702954601369e-09\n",
      "Blauw niet strijdig\n",
      "5.507437114312603e-07\n",
      "4.99036037491104e-09\n",
      "Groen niet strijdig\n",
      "5.83204655143405e-07\n",
      "7.837621226167666e-09\n",
      "Geel niet strijdig\n"
     ]
    }
   ],
   "source": [
    "# voor blauw\n",
    "blauwgewicht = 1 / np.square(u_b)\n",
    "blauwgem_labda = np.sum(blauwgewicht*blauw)/np.sum(blauwgewicht)\n",
    "print(blauwgem_labda)\n",
    "\n",
    "u_gem_blauwlabda = 1 / np.sqrt(np.sum(blauwgewicht))\n",
    "print(u_gem_blauwlabda)\n",
    "\n",
    "if abs(blauwgem_labda - blauwtheo) > 2*u_gem_blauwlabda:\n",
    "    print('Blauw is strijdig')\n",
    "else:\n",
    "    print('Blauw niet strijdig')\n",
    "    \n",
    "    \n",
    "# voor groen\n",
    "groengewicht = 1 / np.square(u_gn)\n",
    "groengem_labda = np.sum(groengewicht*groen)/np.sum(groengewicht)\n",
    "print(groengem_labda)\n",
    "\n",
    "u_gem_groenlabda = 1 / np.sqrt(np.sum(groengewicht))\n",
    "print(u_gem_groenlabda)\n",
    "\n",
    "if abs(groengem_labda - groentheo) > 2*u_gem_groenlabda:\n",
    "    print('Groen is strijdig')\n",
    "else:\n",
    "    print('Groen niet strijdig')\n",
    "    \n",
    "# voor geel\n",
    "geelgewicht = 1 / np.square(u_gl)\n",
    "geelgem_labda = np.sum(geelgewicht*geel)/np.sum(geelgewicht)\n",
    "print(geelgem_labda)\n",
    "\n",
    "u_gem_geellabda = 1 / np.sqrt(np.sum(geelgewicht))\n",
    "print(u_gem_geellabda)\n",
    "\n",
    "if abs(geelgem_labda - geeltheo) > 2*u_gem_geellabda:\n",
    "    print('Geel is strijdig')\n",
    "else:\n",
    "    print('Geel niet strijdig')"
   ]
  },
  {
   "cell_type": "code",
   "execution_count": 19,
   "metadata": {},
   "outputs": [
    {
     "name": "stdout",
     "output_type": "stream",
     "text": [
      "[ 1.36423057e-04 -1.66660138e-05]\n"
     ]
    },
    {
     "ename": "ValueError",
     "evalue": "operands could not be broadcast together with shapes (0,) (2,) ",
     "output_type": "error",
     "traceback": [
      "\u001b[0;31m---------------------------------------------------------------------------\u001b[0m",
      "\u001b[0;31mValueError\u001b[0m                                Traceback (most recent call last)",
      "\u001b[0;32m<ipython-input-19-e3c00e9d82ef>\u001b[0m in \u001b[0;36m<module>\u001b[0;34m\u001b[0m\n\u001b[1;32m     10\u001b[0m \u001b[0mu_u\u001b[0m \u001b[0;34m=\u001b[0m \u001b[0mnp\u001b[0m\u001b[0;34m.\u001b[0m\u001b[0marray\u001b[0m\u001b[0;34m(\u001b[0m\u001b[0;34m[\u001b[0m\u001b[0;34m]\u001b[0m\u001b[0;34m)\u001b[0m\u001b[0;34m\u001b[0m\u001b[0m\n\u001b[1;32m     11\u001b[0m \u001b[0mu_delta_u\u001b[0m \u001b[0;34m=\u001b[0m \u001b[0mnp\u001b[0m\u001b[0;34m.\u001b[0m\u001b[0marray\u001b[0m\u001b[0;34m(\u001b[0m\u001b[0;34m[\u001b[0m\u001b[0;34m]\u001b[0m\u001b[0;34m)\u001b[0m\u001b[0;34m\u001b[0m\u001b[0m\n\u001b[0;32m---> 12\u001b[0;31m \u001b[0mu_delta_labda\u001b[0m \u001b[0;34m=\u001b[0m \u001b[0mnp\u001b[0m\u001b[0;34m.\u001b[0m\u001b[0msqrt\u001b[0m\u001b[0;34m(\u001b[0m\u001b[0;34m(\u001b[0m\u001b[0mu_u\u001b[0m\u001b[0;34m*\u001b[0m\u001b[0mdelta_u\u001b[0m\u001b[0;34m*\u001b[0m\u001b[0mnp\u001b[0m\u001b[0;34m.\u001b[0m\u001b[0msin\u001b[0m\u001b[0;34m(\u001b[0m\u001b[0mu\u001b[0m\u001b[0;34m)\u001b[0m\u001b[0;34m/\u001b[0m\u001b[0;34m(\u001b[0m\u001b[0mm\u001b[0m\u001b[0;34m*\u001b[0m\u001b[0mN\u001b[0m\u001b[0;34m)\u001b[0m\u001b[0;34m)\u001b[0m\u001b[0;34m**\u001b[0m\u001b[0;36m2\u001b[0m\u001b[0;34m+\u001b[0m\u001b[0;34m(\u001b[0m\u001b[0mu_u_delta\u001b[0m\u001b[0;34m*\u001b[0m\u001b[0mcos\u001b[0m\u001b[0;34m(\u001b[0m\u001b[0mu\u001b[0m\u001b[0;34m)\u001b[0m\u001b[0;34m/\u001b[0m\u001b[0;34m(\u001b[0m\u001b[0mm\u001b[0m\u001b[0;34m*\u001b[0m\u001b[0mN\u001b[0m\u001b[0;34m)\u001b[0m\u001b[0;34m)\u001b[0m\u001b[0;34m**\u001b[0m\u001b[0;36m2\u001b[0m\u001b[0;34m)\u001b[0m\u001b[0;34m\u001b[0m\u001b[0m\n\u001b[0m",
      "\u001b[0;31mValueError\u001b[0m: operands could not be broadcast together with shapes (0,) (2,) "
     ]
    }
   ],
   "source": [
    "alpha = 8 * 2 * np.pi / 360\n",
    "\n",
    "u = np.array([12, 22])\n",
    "delta_u = np.array([97, 20])\n",
    "m = np.array([1, 2])\n",
    "delta_labda = np.cos(u)/(m*N)*delta_u\n",
    "\n",
    "print(delta_labda)\n",
    "\n",
    "u_u = np.array([])\n",
    "u_delta_u = np.array([])\n",
    "u_delta_labda = np.sqrt((u_u*delta_u*np.sin(u)/(m*N))**2+(u_u_delta*cos(u)/(m*N))**2)"
   ]
  },
  {
   "cell_type": "markdown",
   "metadata": {},
   "source": [
    "**Describing the pattern in the processed data:**  \n"
   ]
  },
  {
   "cell_type": "code",
   "execution_count": null,
   "metadata": {
    "collapsed": true
   },
   "outputs": [],
   "source": [
    "#Calculations of e.a. measurement uncertainties, and providing final answers.\n"
   ]
  },
  {
   "cell_type": "markdown",
   "metadata": {},
   "source": [
    "**Notes:**  "
   ]
  },
  {
   "cell_type": "markdown",
   "metadata": {},
   "source": [
    "# Discussion\n",
    "\n"
   ]
  },
  {
   "cell_type": "markdown",
   "metadata": {},
   "source": [
    "# Conclusion"
   ]
  },
  {
   "cell_type": "code",
   "execution_count": null,
   "metadata": {
    "collapsed": true
   },
   "outputs": [],
   "source": []
  },
  {
   "cell_type": "code",
   "execution_count": null,
   "metadata": {
    "collapsed": true
   },
   "outputs": [],
   "source": []
  },
  {
   "cell_type": "markdown",
   "metadata": {},
   "source": [
    "# Additional notes, remarks, explanations, thoughts etc"
   ]
  },
  {
   "cell_type": "markdown",
   "metadata": {},
   "source": []
  },
  {
   "cell_type": "markdown",
   "metadata": {},
   "source": [
    "# Hetzelfde maar dan voor natrium"
   ]
  },
  {
   "cell_type": "code",
   "execution_count": null,
   "metadata": {},
   "outputs": [],
   "source": [
    "# Measurements: Explain the names of variables provide only raw data in np.arrays!\n",
    "phi = i - alpha\n",
    "print(phi)\n",
    "labda = - 2 * np.cos(alpha) * np.sin(phi) / (m*N)\n",
    "print(labda)"
   ]
  },
  {
   "cell_type": "code",
   "execution_count": null,
   "metadata": {
    "collapsed": true
   },
   "outputs": [],
   "source": [
    "u_alpha =\n",
    "u_i = np.array([])"
   ]
  },
  {
   "cell_type": "code",
   "execution_count": null,
   "metadata": {
    "collapsed": true,
    "scrolled": true
   },
   "outputs": [],
   "source": [
    "#Data processing and analysis:\n",
    "phi = i - alpha\n",
    "labda = - 2 * np.cos(alpha) * np.sin(phi) / (m*N)\n",
    "print(labda)"
   ]
  },
  {
   "cell_type": "code",
   "execution_count": null,
   "metadata": {
    "collapsed": true
   },
   "outputs": [],
   "source": [
    "#Data processing and analysis:\n",
    "u_phi = np.sqrt(u_i**2+u_alpha**2)\n",
    "u_labda = np.sqrt((2*u_alpha*np.sin(alpha)*np.sin(phi)/(m*N))**2+(2*u_phi*np.cos(alpha)*np.cos(phi)/(m*N))**2)"
   ]
  },
  {
   "cell_type": "code",
   "execution_count": null,
   "metadata": {
    "collapsed": true
   },
   "outputs": [],
   "source": [
    "#Data processing and analysis:\n",
    "plt.figure()\n",
    "plt.errorbar(m, labda, yerr=u_labda, label='Gemeten golflengte bij orde')\n",
    "plt.xlabel('$m$')\n",
    "plt.ylabel('$/lambda$ (m)')\n",
    "plt.legend()\n",
    "plt.show()"
   ]
  },
  {
   "cell_type": "code",
   "execution_count": null,
   "metadata": {
    "collapsed": true
   },
   "outputs": [],
   "source": [
    "gewicht = 1 / (u_labda)**2\n",
    "gewogen_labda = gewicht * labda\n",
    "som_lab = np.sum(gewogen_labda)\n",
    "som_gew = np.sum(gewicht)\n",
    "gem_labda= som_lab/som_gew\n",
    "werkditook = np.mean(gewogen_labda)\n",
    "\n",
    "u_gem_labda = 1 / np.sqrt()"
   ]
  },
  {
   "cell_type": "code",
   "execution_count": null,
   "metadata": {
    "collapsed": true
   },
   "outputs": [],
   "source": [
    "u = np.array([])\n",
    "delta_u = np.array([])\n",
    "delta_labda = np.cos(u)/(m*N)*delta_u\n",
    "\n",
    "u_u = np.array([])\n",
    "u_delta_u = np.array([])\n",
    "u_delta_labda = np.sqrt((u_u*delta_u*np.sin(u)/(m*N))**2+(u_u_delta*cos(u)/(m*N))**2)"
   ]
  }
 ],
 "metadata": {
  "kernelspec": {
   "display_name": "Python 3 [3.7]",
   "language": "python",
   "name": "python3"
  },
  "language_info": {
   "codemirror_mode": {
    "name": "ipython",
    "version": 3
   },
   "file_extension": ".py",
   "mimetype": "text/x-python",
   "name": "python",
   "nbconvert_exporter": "python",
   "pygments_lexer": "ipython3",
   "version": "3.7.5"
  }
 },
 "nbformat": 4,
 "nbformat_minor": 2
}
